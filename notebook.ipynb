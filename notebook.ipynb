{
 "cells": [
  {
   "cell_type": "code",
   "execution_count": 1,
   "metadata": {},
   "outputs": [],
   "source": [
    "from random import randint"
   ]
  },
  {
   "cell_type": "code",
   "execution_count": 2,
   "metadata": {},
   "outputs": [
    {
     "name": "stdout",
     "output_type": "stream",
     "text": [
      "(9, 1)\n"
     ]
    }
   ],
   "source": [
    "key = (randint(0,15), randint(0,15))\n",
    "print(key)"
   ]
  },
  {
   "cell_type": "code",
   "execution_count": 3,
   "metadata": {},
   "outputs": [
    {
     "name": "stdout",
     "output_type": "stream",
     "text": [
      "[12, 5, 6, 11, 9, 0, 10, 13, 3, 14, 15, 8, 4, 7, 1, 2]\n"
     ]
    }
   ],
   "source": [
    "sBox = [12, 5, 6, 11, 9, 0, 10, 13, 3, 14, 15, 8, 4, 7, 1, 2]\n",
    "print(sBox)"
   ]
  },
  {
   "cell_type": "code",
   "execution_count": 4,
   "metadata": {},
   "outputs": [],
   "source": [
    "msg = 10"
   ]
  },
  {
   "cell_type": "code",
   "execution_count": 5,
   "metadata": {},
   "outputs": [],
   "source": [
    "def round(msg, key):\n",
    "    return sBox[msg^key]"
   ]
  },
  {
   "cell_type": "code",
   "execution_count": 6,
   "metadata": {},
   "outputs": [],
   "source": [
    "def enc(msg, key):\n",
    "    return round(round(msg, key[0]), key[1])"
   ]
  },
  {
   "cell_type": "code",
   "execution_count": 7,
   "metadata": {},
   "outputs": [
    {
     "name": "stdout",
     "output_type": "stream",
     "text": [
      "[5, 14, 15, 8, 12, 1, 2, 13, 11, 4, 6, 3, 0, 7, 9, 10]\n"
     ]
    }
   ],
   "source": [
    "xobs = [sBox.index(i) for i in range(0, 16)]\n",
    "print(xobs)"
   ]
  },
  {
   "cell_type": "code",
   "execution_count": 8,
   "metadata": {},
   "outputs": [],
   "source": [
    "def back_round(msg, key):\n",
    "    return xobs[msg]^key"
   ]
  },
  {
   "cell_type": "code",
   "execution_count": 9,
   "metadata": {},
   "outputs": [],
   "source": [
    "def dec(msg, key):\n",
    "    return back_round(back_round(msg, key[1]), key[0])"
   ]
  },
  {
   "cell_type": "code",
   "execution_count": 10,
   "metadata": {},
   "outputs": [
    {
     "name": "stdout",
     "output_type": "stream",
     "text": [
      "True\n"
     ]
    }
   ],
   "source": [
    "print(msg == dec(enc(msg, key), key))"
   ]
  },
  {
   "cell_type": "code",
   "execution_count": 11,
   "metadata": {},
   "outputs": [
    {
     "data": {
      "text/plain": [
       "'0b11111111'"
      ]
     },
     "execution_count": 11,
     "metadata": {},
     "output_type": "execute_result"
    }
   ],
   "source": [
    "bin(255)"
   ]
  },
  {
   "cell_type": "code",
   "execution_count": 12,
   "metadata": {},
   "outputs": [
    {
     "name": "stdout",
     "output_type": "stream",
     "text": [
      "104\n",
      "101\n",
      "108\n",
      "108\n",
      "111\n"
     ]
    }
   ],
   "source": [
    "s = \"hello\"\n",
    "for x in bytearray(s, 'utf-8'):\n",
    "    print(x)"
   ]
  },
  {
   "cell_type": "code",
   "execution_count": 13,
   "metadata": {},
   "outputs": [
    {
     "data": {
      "text/plain": [
       "'0b1101000'"
      ]
     },
     "execution_count": 13,
     "metadata": {},
     "output_type": "execute_result"
    }
   ],
   "source": [
    "bin(104>>4<<4|104&0b1111)"
   ]
  },
  {
   "cell_type": "code",
   "execution_count": 14,
   "metadata": {},
   "outputs": [
    {
     "data": {
      "text/plain": [
       "97"
      ]
     },
     "execution_count": 14,
     "metadata": {},
     "output_type": "execute_result"
    }
   ],
   "source": [
    "ord('a')\n"
   ]
  },
  {
   "cell_type": "code",
   "execution_count": 15,
   "metadata": {},
   "outputs": [
    {
     "data": {
      "text/plain": [
       "'z'"
      ]
     },
     "execution_count": 15,
     "metadata": {},
     "output_type": "execute_result"
    }
   ],
   "source": [
    "chr(122)"
   ]
  },
  {
   "cell_type": "code",
   "execution_count": 16,
   "metadata": {},
   "outputs": [
    {
     "name": "stdout",
     "output_type": "stream",
     "text": [
      "b'coco\\ncoco\\n'\n",
      "c\n",
      "o\n",
      "c\n",
      "o\n"
     ]
    }
   ],
   "source": [
    "with open(\"message.txt\", mode='rb') as file: # b is important -> binary\n",
    "    fileContent = file.read()\n",
    "    print(fileContent+fileContent)\n",
    "    for f in fileContent[:-1]:\n",
    "        print(chr(f))"
   ]
  },
  {
   "cell_type": "code",
   "execution_count": 17,
   "metadata": {},
   "outputs": [
    {
     "name": "stdout",
     "output_type": "stream",
     "text": [
      "b''\n"
     ]
    }
   ],
   "source": [
    "a = b\"\"\n",
    "print(a)"
   ]
  },
  {
   "cell_type": "code",
   "execution_count": 18,
   "metadata": {},
   "outputs": [
    {
     "data": {
      "text/plain": [
       "b'z'"
      ]
     },
     "execution_count": 18,
     "metadata": {},
     "output_type": "execute_result"
    }
   ],
   "source": [
    "bytes([122])"
   ]
  },
  {
   "cell_type": "code",
   "execution_count": 19,
   "metadata": {},
   "outputs": [
    {
     "name": "stdout",
     "output_type": "stream",
     "text": [
      "¯\n",
      "»\n",
      "\n",
      "3\n",
      "{\n",
      "Õ\n"
     ]
    }
   ],
   "source": [
    "with open(\"message.enc\", mode='rb') as file: # b is important -> binary\n",
    "    fileContent = file.read()\n",
    "    for f in fileContent:\n",
    "        print(chr(f))"
   ]
  },
  {
   "cell_type": "code",
   "execution_count": 20,
   "metadata": {},
   "outputs": [
    {
     "name": "stdout",
     "output_type": "stream",
     "text": [
      "key : k0 = 9, k1 = 0\n",
      "sBox = [12, 5, 6, 11, 9, 0, 10, 13, 3, 14, 15, 8, 4, 7, 1, 2]\n"
     ]
    }
   ],
   "source": [
    "from random import randint\n",
    "\n",
    "\n",
    "class ToyCipher():\n",
    "\tdef __init__(self, sBox):\n",
    "\t\tself.sBox = sBox\n",
    "\t\tself.xobs = [sBox.index(i) for i in range(0, 16)]\n",
    "\t\n",
    "\tdef round(self, msg, key):\n",
    "\t\treturn self.sBox[msg^key]\n",
    "    \t\n",
    "\tdef back_round(self, msg, key):\n",
    "\t\treturn self.xobs[msg]^key\n",
    "    \t\n",
    "\tdef enc(self, msg, key):\n",
    "\t\treturn self.round(self.round(msg, key[0]), key[1])\n",
    "    \n",
    "\tdef dec(self, msg, key):\n",
    "\t\treturn self.back_round(self.back_round(msg, key[1]), key[0])\n",
    "\t\t\n",
    "\tdef enc_byte(self, msg, key):\n",
    "\t\treturn self.enc(msg>>4, key)<<4|self.enc(msg&0b1111, key)\n",
    "\t\t\n",
    "\tdef dec_byte(self, msg, key):\n",
    "\t\treturn self.dec(msg>>4, key)<<4|self.dec(msg&0b1111, key)\n",
    "\t\t\n",
    "\tdef enc_char(self, msg, key):\n",
    "\t\treturn chr(self.enc_byte(ord(msg), key))\n",
    "\t\t\n",
    "\tdef dec_char(self, msg, key):\n",
    "\t\treturn chr(self.dec_byte(ord(msg), key))\n",
    "\t\t\n",
    "\tdef enc_string(self, msg, key):\n",
    "\t\tencrypted = \"\"\n",
    "\t\tfor char in msg:\n",
    "\t\t\tencrypted += self.enc_char(char, key)\n",
    "\t\treturn encrypted\n",
    "\t\t\n",
    "\tdef dec_string(self, msg, key):\n",
    "\t\tdecrypted = \"\"\n",
    "\t\tfor char in msg:\n",
    "\t\t\tdecrypted += self.dec_char(char, key)\n",
    "\t\treturn decrypted\n",
    "\t\t\n",
    "\tdef enc_file(self, fileName, encFileName, key):\n",
    "\t\tencrypted = b\"\"\n",
    "\t\twith open(fileName, mode='rb') as file: # b is important -> binary\n",
    "\t\t\tfileContent = file.read()\n",
    "\t\tfor f in fileContent:\n",
    "\t\t\tencrypted += bytes([self.enc_byte(f, key)])\n",
    "\t\twith open(encFileName, mode='wb') as file:\n",
    "\t\t\tfile.write(encrypted)\n",
    "\t\t\t\n",
    "\tdef dec_file(self, encFileName, decFileName, key):\n",
    "\t\tdecrypted = \"\"\n",
    "\t\twith open(encFileName, mode='rb') as file: # b is important -> binary\n",
    "\t\t\tfileContent = file.read()\n",
    "\t\tfor f in fileContent:\n",
    "\t\t\tdecrypted += chr(self.dec_byte(f, key))\n",
    "\t\twith open(decFileName, mode='w') as file:\n",
    "\t\t\tfile.write(decrypted)\n",
    "\t\t\t\n",
    "\tdef enc_cbc_file(self, fileName, encFileName, key):\n",
    "\t\tiv = randint(0, 255)\n",
    "\t\tencrypted = bytes([iv])\n",
    "\t\twith open(fileName, mode='rb') as file: # b is important -> binary\n",
    "\t\t\tfileContent = file.read()\n",
    "\t\tfor f in fileContent:\n",
    "\t\t\tiv = self.enc_byte(f^iv, key)\n",
    "\t\t\tencrypted += bytes([iv])\n",
    "\t\twith open(encFileName, mode='wb') as file:\n",
    "\t\t\tfile.write(encrypted)\n",
    "\t\t\t\n",
    "\tdef dec_cbc_file(self, encFileName, decFileName, key):\n",
    "\t\tdecrypted = \"\"\n",
    "\t\twith open(encFileName, mode='rb') as file: # b is important -> binary\n",
    "\t\t\tiv = file.read(1)\n",
    "\t\t\tiv = iv[0]\n",
    "\t\t\tfile.seek(1)\n",
    "\t\t\tfileContent = file.read()\n",
    "\t\tfor f in fileContent:\n",
    "\t\t\tdecrypted += chr(self.dec_byte(f, key)^iv)\n",
    "\t\t\tiv = f\n",
    "\t\twith open(decFileName, mode='w') as file:\n",
    "\t\t\tfile.write(decrypted)\n",
    "\t\t\t\n",
    "\tdef enc_cfb_file(self, fileName, encFileName, key):\n",
    "\t\tiv = randint(0, 255)\n",
    "\t\tencrypted = bytes([iv])\n",
    "\t\twith open(fileName, mode='rb') as file: # b is important -> binary\n",
    "\t\t\tfileContent = file.read()\n",
    "\t\tfor f in fileContent:\n",
    "\t\t\tiv = self.enc_byte(iv, key)^f\n",
    "\t\t\tencrypted += bytes([iv])\n",
    "\t\twith open(encFileName, mode='wb') as file:\n",
    "\t\t\tfile.write(encrypted)\n",
    "\t\t\t\n",
    "\tdef dec_cfb_file(self, encFileName, decFileName, key):\n",
    "\t\tdecrypted = \"\"\n",
    "\t\twith open(encFileName, mode='rb') as file: # b is important -> binary\n",
    "\t\t\tiv = file.read(1)\n",
    "\t\t\tiv = iv[0]\n",
    "\t\t\tfile.seek(1)\n",
    "\t\t\tfileContent = file.read()\n",
    "\t\tfor f in fileContent:\n",
    "\t\t\tdecrypted += chr(self.enc_byte(iv, key)^f)\n",
    "\t\t\tiv = f\n",
    "\t\twith open(decFileName, mode='w') as file:\n",
    "\t\t\tfile.write(decrypted)\n",
    "\t\t\t\n",
    "\tdef enc_ofb_file(self, fileName, encFileName, key):\n",
    "\t\tiv = randint(0, 255)\n",
    "\t\tencrypted = bytes([iv])\n",
    "\t\twith open(fileName, mode='rb') as file: # b is important -> binary\n",
    "\t\t\tfileContent = file.read()\n",
    "\t\tfor f in fileContent:\n",
    "\t\t\tencrypted += bytes([self.enc_byte(iv, key)^f])\n",
    "\t\twith open(encFileName, mode='wb') as file:\n",
    "\t\t\tfile.write(encrypted)\n",
    "\t\t\t\n",
    "\tdef dec_ofb_file(self, encFileName, decFileName, key):\n",
    "\t\tdecrypted = \"\"\n",
    "\t\twith open(encFileName, mode='rb') as file: # b is important -> binary\n",
    "\t\t\tiv = file.read(1)\n",
    "\t\t\tiv = iv[0]\n",
    "\t\t\tfile.seek(1)\n",
    "\t\t\tfileContent = file.read()\n",
    "\t\tfor f in fileContent:\n",
    "\t\t\tdecrypted += chr(self.enc_byte(iv, key)^f)\n",
    "\t\twith open(decFileName, mode='w') as file:\n",
    "\t\t\tfile.write(decrypted)\n",
    "\t\t\t\n",
    "\n",
    "# attact par anayse de fréquance\n",
    "\n",
    "key = (9, 0)\n",
    "print('key : k0 = {0}, k1 = {1}'.format(key[0], key[1]))\n",
    "\n",
    "sBox = [12, 5, 6, 11, 9, 0, 10, 13, 3, 14, 15, 8, 4, 7, 1, 2]\n",
    "print('sBox = {0}'.format(sBox))\n"
   ]
  },
  {
   "cell_type": "code",
   "execution_count": 30,
   "metadata": {},
   "outputs": [],
   "source": [
    "TC = ToyCipher(sBox)\n",
    "TC.enc_cbc_file(\"message.txt\", \"message.enc\", key)\n",
    "TC.dec_cbc_file(\"message.enc\", \"message.dec\", key)"
   ]
  },
  {
   "cell_type": "code",
   "execution_count": 31,
   "metadata": {},
   "outputs": [
    {
     "name": "stdout",
     "output_type": "stream",
     "text": [
      "¾î\u000b",
      "`\u001f¹\n"
     ]
    }
   ],
   "source": [
    "with open(\"message.enc\", mode='rb') as file: # b is important -> binary\n",
    "    fileContent = file.read()\n",
    "    decmessage = \"\"\n",
    "    for f in fileContent:\n",
    "        decmessage += chr(f)\n",
    "    print(decmessage)"
   ]
  },
  {
   "cell_type": "code",
   "execution_count": 32,
   "metadata": {},
   "outputs": [
    {
     "name": "stdout",
     "output_type": "stream",
     "text": [
      "coco\n",
      "\n"
     ]
    }
   ],
   "source": [
    "with open(\"message.dec\", mode='rb') as file: # b is important -> binary\n",
    "    fileContent = file.read()\n",
    "    decmessage = \"\"\n",
    "    for f in fileContent:\n",
    "        decmessage += chr(f)\n",
    "    print(decmessage)"
   ]
  },
  {
   "cell_type": "code",
   "execution_count": null,
   "metadata": {},
   "outputs": [],
   "source": []
  }
 ],
 "metadata": {
  "kernelspec": {
   "display_name": "Python 3",
   "language": "python",
   "name": "python3"
  },
  "language_info": {
   "codemirror_mode": {
    "name": "ipython",
    "version": 3
   },
   "file_extension": ".py",
   "mimetype": "text/x-python",
   "name": "python",
   "nbconvert_exporter": "python",
   "pygments_lexer": "ipython3",
   "version": "3.6.9"
  }
 },
 "nbformat": 4,
 "nbformat_minor": 4
}
